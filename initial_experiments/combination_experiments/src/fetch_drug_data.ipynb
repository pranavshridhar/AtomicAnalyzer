{
 "cells": [
  {
   "cell_type": "code",
   "execution_count": null,
   "metadata": {},
   "outputs": [
    {
     "name": "stdout",
     "output_type": "stream",
     "text": [
      "Warning: No PubChem data found for gamma-aminobutyric\n",
      "Warning: No PubChem data found for 5-aminolevulinic\n",
      "Warning: No PubChem data found for Oestrogen\n",
      "Warning: No PubChem data found for nitrous\n",
      "Warning: No PubChem data found for hydroxyl\n",
      "Warning: No PubChem data found for acetohydroxamic\n",
      "Warning: No PubChem data found for actinomycin\n",
      "Error processing amoxapine: 'PUGREST.ServerBusy'\n",
      "Warning: No PubChem data found for cephem\n"
     ]
    }
   ],
   "source": [
    "import torch\n",
    "import torch.nn.functional as F\n",
    "import numpy as np\n",
    "from pubchempy import get_compounds\n",
    "from rdkit import Chem\n",
    "from rdkit.Chem import rdmolops\n",
    "from torch_geometric.nn import GCNConv\n",
    "from torch_geometric.data import Data, DataLoader\n",
    "import pandas as pd\n",
    "\n",
    "# Load SIDER side effects data from meddra_all_se.tsv\n",
    "def load_sider_data(path):\n",
    "    df = pd.read_csv(path, sep='\\t', header=None, names=['stitch_id', 'umls_id', 'side_effect'])\n",
    "    return df\n",
    "\n",
    "# Fetch PubChem data\n",
    "def fetch_pubchem_data(drug_name):\n",
    "    compounds = get_compounds(drug_name, 'name')\n",
    "    if not compounds:  # Check if the list is empty\n",
    "        print(f\"Warning: No PubChem data found for {drug_name}\")\n",
    "        return None\n",
    "    smiles = compounds[0].isomeric_smiles\n",
    "    return smiles\n",
    "\n",
    "# Generate molecular graphs\n",
    "def generate_molecular_graph(smiles):\n",
    "    mol = Chem.MolFromSmiles(smiles)\n",
    "    if mol is None:\n",
    "        raise ValueError(\"Invalid SMILES string\")\n",
    "    \n",
    "    adj = rdmolops.GetAdjacencyMatrix(mol)\n",
    "    edge_index = torch.from_numpy(np.array(adj.nonzero(), dtype=np.int64))\n",
    "    x = torch.tensor([atom.GetAtomicNum() for atom in mol.GetAtoms()], dtype=torch.float).view(-1, 1)\n",
    "    return Data(x=x, edge_index=edge_index)\n",
    "\n",
    "# Preprocess data\n",
    "def preprocess_data(sider_path, drug_names_path):\n",
    "    sider_df = load_sider_data(sider_path)\n",
    "    drug_names = pd.read_csv(drug_names_path, sep='\\t', header=None, names=['stitch_id', 'drug_name'])\n",
    "    data_list = []\n",
    "\n",
    "    for _, row in drug_names.iterrows():\n",
    "        try:\n",
    "            smiles = fetch_pubchem_data(row['drug_name'])\n",
    "            if smiles is None:  # Skip if no valid SMILES found\n",
    "                continue\n",
    "            side_effects = sider_df[sider_df['stitch_id'] == row['stitch_id']]['side_effect'].values\n",
    "            graph = generate_molecular_graph(smiles)\n",
    "            graph.y = torch.tensor([len(side_effects)], dtype=torch.float)  # Using count of side effects\n",
    "            data_list.append(graph)\n",
    "        except Exception as e:\n",
    "            print(f\"Error processing {row['drug_name']}: {e}\")\n",
    "    return data_list\n",
    "\n",
    "# Define GNN model\n",
    "class DrugGNN(torch.nn.Module):\n",
    "    def __init__(self):\n",
    "        super(DrugGNN, self).__init__()\n",
    "        self.conv1 = GCNConv(1, 64)\n",
    "        self.conv2 = GCNConv(64, 32)\n",
    "        self.fc = torch.nn.Linear(32, 1)\n",
    "\n",
    "    def forward(self, x, edge_index):\n",
    "        x = F.relu(self.conv1(x, edge_index))\n",
    "        x = F.relu(self.conv2(x, edge_index))\n",
    "        return torch.sigmoid(self.fc(x))\n",
    "\n",
    "# Training loop\n",
    "def train_model(data_list):\n",
    "    model = DrugGNN()\n",
    "    optimizer = torch.optim.Adam(model.parameters(), lr=0.001)\n",
    "    loader = DataLoader(data_list, batch_size=32, shuffle=True)\n",
    "\n",
    "    for epoch in range(100):\n",
    "        total_loss = 0\n",
    "        for data in loader:\n",
    "            optimizer.zero_grad()\n",
    "            out = model(data.x, data.edge_index)\n",
    "            loss = F.mse_loss(out, data.y.view(-1, 1))  # Ensure correct tensor shape\n",
    "            loss.backward()\n",
    "            optimizer.step()\n",
    "            total_loss += loss.item()\n",
    "        \n",
    "        print(f'Epoch {epoch+1}, Loss: {total_loss / len(loader)}')\n",
    "\n",
    "if __name__ == \"__main__\":\n",
    "    data_list = preprocess_data('meddra_all_se.tsv', 'drug_names.tsv')\n",
    "    if data_list:\n",
    "        train_model(data_list)\n",
    "    else:\n",
    "        print(\"No valid data to train on.\")\n"
   ]
  },
  {
   "cell_type": "code",
   "execution_count": 7,
   "metadata": {},
   "outputs": [
    {
     "name": "stdout",
     "output_type": "stream",
     "text": [
      "Index(['stitch_id', 'drug_name'], dtype='object')\n",
      "Index(['stitch_id', 'drug_name'], dtype='object')\n",
      "      stitch_id                 drug_name\n",
      "0  CID100000085                 carnitine\n",
      "1  CID100000119        gamma-aminobutyric\n",
      "2  CID100000137          5-aminolevulinic\n",
      "3  CID100000143                leucovorin\n",
      "4  CID100000146  5-methyltetrahydrofolate\n"
     ]
    },
    {
     "name": "stderr",
     "output_type": "stream",
     "text": [
      "/var/folders/z2/wl288m9n139_4ywpb2k5s8t40000gn/T/ipykernel_17507/144763402.py:3: ParserWarning: Falling back to the 'python' engine because the 'c' engine does not support regex separators (separators > 1 char and different from '\\s+' are interpreted as regex); you can avoid this warning by specifying engine='python'.\n",
      "  drug_names = pd.read_csv('drug_names.tsv', sep='\\\\t', header=None, names=['stitch_id', 'drug_name'])\n"
     ]
    }
   ],
   "source": [
    "import pandas as pd\n",
    "\n",
    "drug_names = pd.read_csv('drug_names.tsv', sep='\\\\t', header=None, names=['stitch_id', 'drug_name'])\n",
    "# print(drug_names.head())  # Display the first few rows\n",
    "print(drug_names.columns)\n",
    "drug_names.columns = drug_names.columns.str.strip()\n",
    "print(drug_names.columns)\n",
    "print(drug_names.head())"
   ]
  }
 ],
 "metadata": {
  "kernelspec": {
   "display_name": "drug_env",
   "language": "python",
   "name": "python3"
  },
  "language_info": {
   "codemirror_mode": {
    "name": "ipython",
    "version": 3
   },
   "file_extension": ".py",
   "mimetype": "text/x-python",
   "name": "python",
   "nbconvert_exporter": "python",
   "pygments_lexer": "ipython3",
   "version": "3.10.13"
  }
 },
 "nbformat": 4,
 "nbformat_minor": 2
}
